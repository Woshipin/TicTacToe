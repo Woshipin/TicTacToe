{
 "cells": [
  {
   "cell_type": "code",
   "execution_count": null,
   "id": "addf1add-3a38-4501-80c8-bf82e0b8e4c9",
   "metadata": {},
   "outputs": [
    {
     "name": "stdin",
     "output_type": "stream",
     "text": [
      "Choose your marker (X or O):  O\n"
     ]
    },
    {
     "name": "stdout",
     "output_type": "stream",
     "text": [
      "1 | 2 | 3\n",
      "--+---+--\n",
      "4 | 5 | 6\n",
      "--+---+--\n",
      "7 | 8 | 9\n",
      "----------\n",
      "\n",
      "  |   |  \n",
      "--+---+--\n",
      "  |   |  \n",
      "--+---+--\n",
      "  |   |  \n"
     ]
    },
    {
     "name": "stdin",
     "output_type": "stream",
     "text": [
      "Player O, enter your move (1-9):  1\n"
     ]
    },
    {
     "name": "stdout",
     "output_type": "stream",
     "text": [
      "O |   |  \n",
      "--+---+--\n",
      "  |   |  \n",
      "--+---+--\n",
      "  |   |  \n"
     ]
    },
    {
     "name": "stdin",
     "output_type": "stream",
     "text": [
      "Player X, enter your move (1-9):  2\n"
     ]
    },
    {
     "name": "stdout",
     "output_type": "stream",
     "text": [
      "O | X |  \n",
      "--+---+--\n",
      "  |   |  \n",
      "--+---+--\n",
      "  |   |  \n"
     ]
    },
    {
     "name": "stdin",
     "output_type": "stream",
     "text": [
      "Player O, enter your move (1-9):  4\n"
     ]
    },
    {
     "name": "stdout",
     "output_type": "stream",
     "text": [
      "O | X |  \n",
      "--+---+--\n",
      "O |   |  \n",
      "--+---+--\n",
      "  |   |  \n"
     ]
    },
    {
     "name": "stdin",
     "output_type": "stream",
     "text": [
      "Player X, enter your move (1-9):  5\n"
     ]
    },
    {
     "name": "stdout",
     "output_type": "stream",
     "text": [
      "O | X |  \n",
      "--+---+--\n",
      "O | X |  \n",
      "--+---+--\n",
      "  |   |  \n"
     ]
    },
    {
     "name": "stdin",
     "output_type": "stream",
     "text": [
      "Player O, enter your move (1-9):  8\n"
     ]
    },
    {
     "name": "stdout",
     "output_type": "stream",
     "text": [
      "O | X |  \n",
      "--+---+--\n",
      "O | X |  \n",
      "--+---+--\n",
      "  | O |  \n"
     ]
    },
    {
     "name": "stdin",
     "output_type": "stream",
     "text": [
      "Player X, enter your move (1-9):  7\n"
     ]
    },
    {
     "name": "stdout",
     "output_type": "stream",
     "text": [
      "O | X |  \n",
      "--+---+--\n",
      "O | X |  \n",
      "--+---+--\n",
      "X | O |  \n"
     ]
    },
    {
     "name": "stdin",
     "output_type": "stream",
     "text": [
      "Player O, enter your move (1-9):  3\n"
     ]
    },
    {
     "name": "stdout",
     "output_type": "stream",
     "text": [
      "O | X | O\n",
      "--+---+--\n",
      "O | X |  \n",
      "--+---+--\n",
      "X | O |  \n"
     ]
    },
    {
     "name": "stdin",
     "output_type": "stream",
     "text": [
      "Player X, enter your move (1-9):  5\n"
     ]
    },
    {
     "name": "stdout",
     "output_type": "stream",
     "text": [
      "Invalid move. Please try again.\n",
      "O | X | O\n",
      "--+---+--\n",
      "O | X |  \n",
      "--+---+--\n",
      "X | O |  \n"
     ]
    },
    {
     "name": "stdin",
     "output_type": "stream",
     "text": [
      "Player X, enter your move (1-9):  6\n"
     ]
    },
    {
     "name": "stdout",
     "output_type": "stream",
     "text": [
      "O | X | O\n",
      "--+---+--\n",
      "O | X | X\n",
      "--+---+--\n",
      "X | O |  \n"
     ]
    }
   ],
   "source": [
    "from TicT2\n",
    "acToe import *\n",
    "\n",
    "def main():\n",
    "    # Ask the player to choose 'X' or 'O'\n",
    "    while True:\n",
    "        starting_player = input(\"Choose your marker (X or O): \").upper()\n",
    "        if starting_player in ['X', 'O']:\n",
    "            break\n",
    "        else:\n",
    "            print(\"Invalid choice. Please choose 'X' or 'O'.\")\n",
    "\n",
    "    game = TicTacToe(starting_player)\n",
    "    game.print_board(show_positions=True)  # Show the positions at the beginning\n",
    "    while True:\n",
    "        # Print the board\n",
    "        game.print_board()\n",
    "        try:\n",
    "            # Get player input\n",
    "            move = int(input(f\"Player {game.current_player}, enter your move (1-9): \"))\n",
    "            # Check and make the move\n",
    "            if move in game.board and game.make_move(move):\n",
    "                # Check if there is a winner\n",
    "                if game.check_winner(game.current_player):\n",
    "                    game.print_board()\n",
    "                    print(f\"Player {game.current_player} wins!\")\n",
    "                    break\n",
    "                # Check if it's a tie\n",
    "                if game.is_board_full():\n",
    "                    game.print_board()\n",
    "                    print(\"It's a tie!\")\n",
    "                    break\n",
    "                # Switch player\n",
    "                game.switch_player()\n",
    "            else:\n",
    "                print(\"Invalid move. Please try again.\")\n",
    "        except ValueError:\n",
    "            print(\"Invalid input. Please enter a number between 1 and 9.\")\n",
    "\n",
    "if __name__ == \"__main__\":\n",
    "    main()"
   ]
  },
  {
   "cell_type": "code",
   "execution_count": null,
   "id": "620ff33f-b47b-423f-85ae-0d2ee5d2a461",
   "metadata": {},
   "outputs": [],
   "source": []
  }
 ],
 "metadata": {
  "kernelspec": {
   "display_name": "Python 3 (ipykernel)",
   "language": "python",
   "name": "python3"
  },
  "language_info": {
   "codemirror_mode": {
    "name": "ipython",
    "version": 3
   },
   "file_extension": ".py",
   "mimetype": "text/x-python",
   "name": "python",
   "nbconvert_exporter": "python",
   "pygments_lexer": "ipython3",
   "version": "3.11.7"
  }
 },
 "nbformat": 4,
 "nbformat_minor": 5
}
